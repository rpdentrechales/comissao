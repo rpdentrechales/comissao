{
 "cells": [
  {
   "cell_type": "markdown",
   "metadata": {},
   "source": [
    "# Bibliotecas"
   ]
  },
  {
   "cell_type": "code",
   "execution_count": 3,
   "metadata": {},
   "outputs": [],
   "source": [
    "import pandas as pd\n",
    "import numpy as np\n",
    "from datetime import datetime, timedelta\n",
    "from IPython.display import display\n",
    "import toml\n",
    "import gspread\n",
    "from google.oauth2.service_account import Credentials\n",
    "from auxiliar.arrumar_bases import *\n",
    "from gspread_dataframe import get_as_dataframe, set_with_dataframe\n",
    "import random\n",
    "\n",
    "def get_sheetdata(sheet_name):\n",
    "    # Load credentials from the .streamlit/secrets.toml file\n",
    "    secrets = toml.load(\".streamlit/secrets.toml\")\n",
    "    creds_info = secrets[\"connections\"][\"gsheets\"]\n",
    "\n",
    "    # Define scopes for accessing Google Sheets and Drive\n",
    "    scope = [\n",
    "        \"https://www.googleapis.com/auth/spreadsheets\",\n",
    "        \"https://www.googleapis.com/auth/drive\",\n",
    "    ]\n",
    "\n",
    "    # Create credentials and authorize the gspread client\n",
    "    creds = Credentials.from_service_account_info(creds_info, scopes=scope)\n",
    "    client = gspread.authorize(creds)\n",
    "\n",
    "    # Open the spreadsheet using the URL from the toml file\n",
    "    spreadsheet = client.open_by_url(creds_info[\"spreadsheet\"])\n",
    "\n",
    "    # Select the first worksheet and fetch all records\n",
    "    worksheet = spreadsheet.worksheet(sheet_name)\n",
    "    data = worksheet.get_all_records()\n",
    "\n",
    "    df = pd.DataFrame(data)\n",
    "\n",
    "    return df\n",
    "\n",
    "def update_sheet(sheet_name,df):\n",
    "    # Load credentials from the .streamlit/secrets.toml file\n",
    "    secrets = toml.load(\"/home/ciroshia/Downloads/github/comissao/.streamlit/secrets.toml\")\n",
    "    creds_info = secrets[\"connections\"][\"gsheets\"]\n",
    "\n",
    "    # Define scopes for accessing Google Sheets and Drive\n",
    "    scope = [\n",
    "        \"https://www.googleapis.com/auth/spreadsheets\",\n",
    "        \"https://www.googleapis.com/auth/drive\",\n",
    "    ]\n",
    "\n",
    "    # Create credentials and authorize the gspread client\n",
    "    creds = Credentials.from_service_account_info(creds_info, scopes=scope)\n",
    "    client = gspread.authorize(creds)\n",
    "\n",
    "    # Open the spreadsheet using the URL from the toml file\n",
    "    spreadsheet = client.open_by_url(creds_info[\"spreadsheet\"])\n",
    "\n",
    "    # Select the first worksheet and fetch all records\n",
    "    worksheet = spreadsheet.worksheet(sheet_name)\n",
    "    worksheet.clear()\n",
    "    set_with_dataframe(worksheet, df)\n",
    "\n",
    "    return df\n",
    "\n",
    "vmb_path = \"assets/venda-mensal-bruta_colab-bi_2025-02-11.xlsx\"\n",
    "agendamento_path = \"assets/agendamentos_colab-bi_2025-02-12 (1).xlsx\"\n",
    "\n",
    "venda_mensal_df = pd.read_excel(vmb_path)\n",
    "agendamentos_df = pd.read_excel(agendamento_path)\n",
    "procedimentos_df = get_sheetdata(\"procedimentos_padronizados\")\n",
    "prestadora_df = get_sheetdata(\"base_prestadoras\")\n",
    "comissao_df = get_sheetdata(\"comissoes\")\n",
    "tipo_prestadora_df = get_sheetdata(\"tipo_prestadora\")\n",
    "garantido_df = get_sheetdata(\"base_garantido\")\n",
    "\n"
   ]
  },
  {
   "cell_type": "code",
   "execution_count": 7,
   "metadata": {},
   "outputs": [
    {
     "name": "stderr",
     "output_type": "stream",
     "text": [
      "/home/ciroshia/Downloads/github/comissao/auxiliar/arrumar_bases.py:77: SettingWithCopyWarning: \n",
      "A value is trying to be set on a copy of a slice from a DataFrame.\n",
      "Try using .loc[row_indexer,col_indexer] = value instead\n",
      "\n",
      "See the caveats in the documentation: https://pandas.pydata.org/pandas-docs/stable/user_guide/indexing.html#returning-a-view-versus-a-copy\n",
      "  revenda_df[\"Unidade\"] = revenda_df[\"Unidade\"].str.normalize(\"NFKC\").str.strip().str.lower()\n",
      "/home/ciroshia/Downloads/github/comissao/auxiliar/arrumar_bases.py:78: SettingWithCopyWarning: \n",
      "A value is trying to be set on a copy of a slice from a DataFrame.\n",
      "Try using .loc[row_indexer,col_indexer] = value instead\n",
      "\n",
      "See the caveats in the documentation: https://pandas.pydata.org/pandas-docs/stable/user_guide/indexing.html#returning-a-view-versus-a-copy\n",
      "  revenda_df[\"nome_prestadora\"] = revenda_df[\"nome_prestadora\"].str.normalize(\"NFKC\").str.strip().str.lower()\n"
     ]
    }
   ],
   "source": [
    "# Todas as bases\n",
    "\n",
    "base_compilada = criar_base_compilada(agendamentos_df,venda_mensal_df,procedimentos_df,prestadora_df,comissao_df,tipo_prestadora_df)\n",
    "base_lavieen = criar_base_lavieen(base_compilada)\n",
    "base_comissoes = criar_comissoes(base_compilada)\n",
    "base_avaliacoes = cria_avaliacoes(base_compilada,\"mensal\")\n",
    "revenda_df = cria_base_revenda(venda_mensal_df)\n",
    "base_garantido = criar_base_garantido(base_compilada,garantido_df)\n",
    "base_final = juntar_bases(base_comissoes,base_avaliacoes,revenda_df,base_lavieen,base_garantido)"
   ]
  },
  {
   "cell_type": "markdown",
   "metadata": {},
   "source": [
    "# Rascunhos\n"
   ]
  },
  {
   "cell_type": "code",
   "execution_count": 11,
   "metadata": {},
   "outputs": [
    {
     "data": {
      "text/plain": [
       "Index(['nome_prestadora', 'tipo_prestadora', 'Unidade', 'comissao_total',\n",
       "       'avaliacoes_total', 'comissao_revenda', 'valor_lavieen',\n",
       "       'comissao_garantido_total'],\n",
       "      dtype='object')"
      ]
     },
     "execution_count": 11,
     "metadata": {},
     "output_type": "execute_result"
    }
   ],
   "source": [
    "base_final.columns"
   ]
  }
 ],
 "metadata": {
  "kernelspec": {
   "display_name": ".venv",
   "language": "python",
   "name": "python3"
  },
  "language_info": {
   "codemirror_mode": {
    "name": "ipython",
    "version": 3
   },
   "file_extension": ".py",
   "mimetype": "text/x-python",
   "name": "python",
   "nbconvert_exporter": "python",
   "pygments_lexer": "ipython3",
   "version": "3.12.3"
  }
 },
 "nbformat": 4,
 "nbformat_minor": 2
}
